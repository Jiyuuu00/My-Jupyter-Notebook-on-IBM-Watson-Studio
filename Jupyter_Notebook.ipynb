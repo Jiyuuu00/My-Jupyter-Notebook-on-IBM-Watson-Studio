{
 "cells": [
  {
   "cell_type": "markdown",
   "metadata": {},
   "source": [
    "My Jupyter Notebook on IBM Watson Studio<center>\n",
    "    <img src=\"https://s3-api.us-geo.objectstorage.softlayer.net/cf-courses-data/CognitiveClass/Logos/organization_logo/organization_logo.png\" width=\"300\" alt=\"cognitiveclass.ai logo\"  />\n",
    "</center>\n"
   ]
  },
  {
   "cell_type": "markdown",
   "metadata": {
    "tags": []
   },
   "source": [
    "#### Add your code below following the instructions given in the course"
   ]
  },
  {
   "cell_type": "markdown",
   "metadata": {},
   "source": [
    "# My Jupyter Notebook on IBM Watson Studio"
   ]
  },
  {
   "cell_type": "markdown",
   "metadata": {},
   "source": [
    " **Jiyu Park**"
   ]
  },
  {
   "cell_type": "markdown",
   "metadata": {},
   "source": [
    "Data Science"
   ]
  },
  {
   "cell_type": "markdown",
   "metadata": {},
   "source": [
    "*I am interested in data science because I am into the finding hidden information in the given data. Moreover, I want to be a data scientist in the future*"
   ]
  },
  {
   "cell_type": "markdown",
   "metadata": {},
   "source": [
    "### The Next sell should print the  \"hello world\" ###"
   ]
  },
  {
   "cell_type": "code",
   "execution_count": 5,
   "metadata": {},
   "outputs": [
    {
     "name": "stdout",
     "output_type": "stream",
     "text": [
      "hello world\n"
     ]
    }
   ],
   "source": [
    "print(\"hello world\")"
   ]
  },
  {
   "cell_type": "markdown",
   "metadata": {},
   "source": [
    "![this is an image](data:image/png;base64,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)"
   ]
  },
  {
   "cell_type": "markdown",
   "metadata": {},
   "source": [
    "This note book is related to [GitHub Pages](https://pages.github.com/)"
   ]
  },
  {
   "cell_type": "markdown",
   "metadata": {},
   "source": [
    "| No.of dogs  | No.of cats |\n",
    "| ------------- | ------------- |\n",
    "| 2  | 4  |"
   ]
  },
  {
   "cell_type": "code",
   "execution_count": null,
   "metadata": {},
   "outputs": [],
   "source": []
  }
 ],
 "metadata": {
  "kernelspec": {
   "display_name": "Python",
   "language": "python",
   "name": "conda-env-python-py"
  },
  "language_info": {
   "codemirror_mode": {
    "name": "ipython",
    "version": 3
   },
   "file_extension": ".py",
   "mimetype": "text/x-python",
   "name": "python",
   "nbconvert_exporter": "python",
   "pygments_lexer": "ipython3",
   "version": "3.7.12"
  }
 },
 "nbformat": 4,
 "nbformat_minor": 4
}
